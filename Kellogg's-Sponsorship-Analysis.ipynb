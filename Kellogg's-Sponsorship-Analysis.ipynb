{
  "nbformat": 4,
  "nbformat_minor": 0,
  "metadata": {
    "colab": {
      "provenance": []
    },
    "kernelspec": {
      "name": "ir",
      "display_name": "R"
    },
    "language_info": {
      "name": "R"
    }
  },
  "cells": [
    {
      "cell_type": "markdown",
      "source": [
        "Title: **Olympics**\n",
        "\n",
        "\n",
        "Subtitle: Analysis of Kellogg's sponsorship\n",
        "\n",
        "\n",
        "Gouthami Nadupuri"
      ],
      "metadata": {
        "id": "9WQTzcQB_NMT"
      }
    },
    {
      "cell_type": "code",
      "execution_count": null,
      "metadata": {
        "id": "WErcIT3mTeEY"
      },
      "outputs": [],
      "source": [
        "athlete <- read.csv(\"/content/athlete_events.csv\")"
      ]
    },
    {
      "cell_type": "markdown",
      "source": [
        "Objective:\n",
        "The module is to depict the next olympic games that happens.\n",
        "kellogg’s is one the main sponsors of the next olympic games.\n",
        "Task is to make analysis on the right sport and athlete.\n",
        "\n",
        "We have to first upload and read the csv file in Jupyter Notebook. Execute the uploaded csv file, it should display the entire data from the csv file. Execute to display first 10 rows using R programming. Calculate and execute number of rows and numbers of columns. Select a column and print the records with 10 largest values for that column. Select column that is relevant to kellog’s athlete decisions, consider medal or sport. Select and execute 5 columns that could help kellogg’s make informed sponsorship decisions. Create a plot that visually represents data. Example, create bar chart that shows the medals by sport."
      ],
      "metadata": {
        "id": "65dxiYWVq_8r"
      }
    },
    {
      "cell_type": "code",
      "source": [
        "head(athlete)"
      ],
      "metadata": {
        "colab": {
          "base_uri": "https://localhost:8080/",
          "height": 601
        },
        "id": "8afcf7y5qBuT",
        "outputId": "1933dc0d-710c-4b17-d3d7-7f3058cd76ff"
      },
      "execution_count": null,
      "outputs": [
        {
          "output_type": "display_data",
          "data": {
            "text/html": [
              "<table class=\"dataframe\">\n",
              "<caption>A data.frame: 6 × 15</caption>\n",
              "<thead>\n",
              "\t<tr><th></th><th scope=col>ID</th><th scope=col>Name</th><th scope=col>Sex</th><th scope=col>Age</th><th scope=col>Height</th><th scope=col>Weight</th><th scope=col>Team</th><th scope=col>NOC</th><th scope=col>Games</th><th scope=col>Year</th><th scope=col>Season</th><th scope=col>City</th><th scope=col>Sport</th><th scope=col>Event</th><th scope=col>Medal</th></tr>\n",
              "\t<tr><th></th><th scope=col>&lt;int&gt;</th><th scope=col>&lt;chr&gt;</th><th scope=col>&lt;chr&gt;</th><th scope=col>&lt;int&gt;</th><th scope=col>&lt;int&gt;</th><th scope=col>&lt;dbl&gt;</th><th scope=col>&lt;chr&gt;</th><th scope=col>&lt;chr&gt;</th><th scope=col>&lt;chr&gt;</th><th scope=col>&lt;int&gt;</th><th scope=col>&lt;chr&gt;</th><th scope=col>&lt;chr&gt;</th><th scope=col>&lt;chr&gt;</th><th scope=col>&lt;chr&gt;</th><th scope=col>&lt;chr&gt;</th></tr>\n",
              "</thead>\n",
              "<tbody>\n",
              "\t<tr><th scope=row>1</th><td>1</td><td>A Dijiang               </td><td>M</td><td>24</td><td>180</td><td>80</td><td>China         </td><td>CHN</td><td>1992 Summer</td><td>1992</td><td>Summer</td><td>Barcelona</td><td>Basketball   </td><td>Basketball Men's Basketball       </td><td>NA  </td></tr>\n",
              "\t<tr><th scope=row>2</th><td>2</td><td>A Lamusi                </td><td>M</td><td>23</td><td>170</td><td>60</td><td>China         </td><td>CHN</td><td>2012 Summer</td><td>2012</td><td>Summer</td><td>London   </td><td>Judo         </td><td>Judo Men's Extra-Lightweight      </td><td>NA  </td></tr>\n",
              "\t<tr><th scope=row>3</th><td>3</td><td>Gunnar Nielsen Aaby     </td><td>M</td><td>24</td><td> NA</td><td>NA</td><td>Denmark       </td><td>DEN</td><td>1920 Summer</td><td>1920</td><td>Summer</td><td>Antwerpen</td><td>Football     </td><td>Football Men's Football           </td><td>NA  </td></tr>\n",
              "\t<tr><th scope=row>4</th><td>4</td><td>Edgar Lindenau Aabye    </td><td>M</td><td>34</td><td> NA</td><td>NA</td><td>Denmark/Sweden</td><td>DEN</td><td>1900 Summer</td><td>1900</td><td>Summer</td><td>Paris    </td><td>Tug-Of-War   </td><td>Tug-Of-War Men's Tug-Of-War       </td><td>Gold</td></tr>\n",
              "\t<tr><th scope=row>5</th><td>5</td><td>Christine Jacoba Aaftink</td><td>F</td><td>21</td><td>185</td><td>82</td><td>Netherlands   </td><td>NED</td><td>1988 Winter</td><td>1988</td><td>Winter</td><td>Calgary  </td><td>Speed Skating</td><td>Speed Skating Women's 500 metres  </td><td>NA  </td></tr>\n",
              "\t<tr><th scope=row>6</th><td>5</td><td>Christine Jacoba Aaftink</td><td>F</td><td>21</td><td>185</td><td>82</td><td>Netherlands   </td><td>NED</td><td>1988 Winter</td><td>1988</td><td>Winter</td><td>Calgary  </td><td>Speed Skating</td><td>Speed Skating Women's 1,000 metres</td><td>NA  </td></tr>\n",
              "</tbody>\n",
              "</table>\n"
            ],
            "text/markdown": "\nA data.frame: 6 × 15\n\n| <!--/--> | ID &lt;int&gt; | Name &lt;chr&gt; | Sex &lt;chr&gt; | Age &lt;int&gt; | Height &lt;int&gt; | Weight &lt;dbl&gt; | Team &lt;chr&gt; | NOC &lt;chr&gt; | Games &lt;chr&gt; | Year &lt;int&gt; | Season &lt;chr&gt; | City &lt;chr&gt; | Sport &lt;chr&gt; | Event &lt;chr&gt; | Medal &lt;chr&gt; |\n|---|---|---|---|---|---|---|---|---|---|---|---|---|---|---|---|\n| 1 | 1 | A Dijiang                | M | 24 | 180 | 80 | China          | CHN | 1992 Summer | 1992 | Summer | Barcelona | Basketball    | Basketball Men's Basketball        | NA   |\n| 2 | 2 | A Lamusi                 | M | 23 | 170 | 60 | China          | CHN | 2012 Summer | 2012 | Summer | London    | Judo          | Judo Men's Extra-Lightweight       | NA   |\n| 3 | 3 | Gunnar Nielsen Aaby      | M | 24 |  NA | NA | Denmark        | DEN | 1920 Summer | 1920 | Summer | Antwerpen | Football      | Football Men's Football            | NA   |\n| 4 | 4 | Edgar Lindenau Aabye     | M | 34 |  NA | NA | Denmark/Sweden | DEN | 1900 Summer | 1900 | Summer | Paris     | Tug-Of-War    | Tug-Of-War Men's Tug-Of-War        | Gold |\n| 5 | 5 | Christine Jacoba Aaftink | F | 21 | 185 | 82 | Netherlands    | NED | 1988 Winter | 1988 | Winter | Calgary   | Speed Skating | Speed Skating Women's 500 metres   | NA   |\n| 6 | 5 | Christine Jacoba Aaftink | F | 21 | 185 | 82 | Netherlands    | NED | 1988 Winter | 1988 | Winter | Calgary   | Speed Skating | Speed Skating Women's 1,000 metres | NA   |\n\n",
            "text/latex": "A data.frame: 6 × 15\n\\begin{tabular}{r|lllllllllllllll}\n  & ID & Name & Sex & Age & Height & Weight & Team & NOC & Games & Year & Season & City & Sport & Event & Medal\\\\\n  & <int> & <chr> & <chr> & <int> & <int> & <dbl> & <chr> & <chr> & <chr> & <int> & <chr> & <chr> & <chr> & <chr> & <chr>\\\\\n\\hline\n\t1 & 1 & A Dijiang                & M & 24 & 180 & 80 & China          & CHN & 1992 Summer & 1992 & Summer & Barcelona & Basketball    & Basketball Men's Basketball        & NA  \\\\\n\t2 & 2 & A Lamusi                 & M & 23 & 170 & 60 & China          & CHN & 2012 Summer & 2012 & Summer & London    & Judo          & Judo Men's Extra-Lightweight       & NA  \\\\\n\t3 & 3 & Gunnar Nielsen Aaby      & M & 24 &  NA & NA & Denmark        & DEN & 1920 Summer & 1920 & Summer & Antwerpen & Football      & Football Men's Football            & NA  \\\\\n\t4 & 4 & Edgar Lindenau Aabye     & M & 34 &  NA & NA & Denmark/Sweden & DEN & 1900 Summer & 1900 & Summer & Paris     & Tug-Of-War    & Tug-Of-War Men's Tug-Of-War        & Gold\\\\\n\t5 & 5 & Christine Jacoba Aaftink & F & 21 & 185 & 82 & Netherlands    & NED & 1988 Winter & 1988 & Winter & Calgary   & Speed Skating & Speed Skating Women's 500 metres   & NA  \\\\\n\t6 & 5 & Christine Jacoba Aaftink & F & 21 & 185 & 82 & Netherlands    & NED & 1988 Winter & 1988 & Winter & Calgary   & Speed Skating & Speed Skating Women's 1,000 metres & NA  \\\\\n\\end{tabular}\n",
            "text/plain": [
              "  ID Name                     Sex Age Height Weight Team           NOC\n",
              "1 1  A Dijiang                M   24  180    80     China          CHN\n",
              "2 2  A Lamusi                 M   23  170    60     China          CHN\n",
              "3 3  Gunnar Nielsen Aaby      M   24   NA    NA     Denmark        DEN\n",
              "4 4  Edgar Lindenau Aabye     M   34   NA    NA     Denmark/Sweden DEN\n",
              "5 5  Christine Jacoba Aaftink F   21  185    82     Netherlands    NED\n",
              "6 5  Christine Jacoba Aaftink F   21  185    82     Netherlands    NED\n",
              "  Games       Year Season City      Sport        \n",
              "1 1992 Summer 1992 Summer Barcelona Basketball   \n",
              "2 2012 Summer 2012 Summer London    Judo         \n",
              "3 1920 Summer 1920 Summer Antwerpen Football     \n",
              "4 1900 Summer 1900 Summer Paris     Tug-Of-War   \n",
              "5 1988 Winter 1988 Winter Calgary   Speed Skating\n",
              "6 1988 Winter 1988 Winter Calgary   Speed Skating\n",
              "  Event                              Medal\n",
              "1 Basketball Men's Basketball        NA   \n",
              "2 Judo Men's Extra-Lightweight       NA   \n",
              "3 Football Men's Football            NA   \n",
              "4 Tug-Of-War Men's Tug-Of-War        Gold \n",
              "5 Speed Skating Women's 500 metres   NA   \n",
              "6 Speed Skating Women's 1,000 metres NA   "
            ]
          },
          "metadata": {}
        }
      ]
    },
    {
      "cell_type": "code",
      "source": [
        "medal <- athlete[!is.na(athlete$Medal), ]\n",
        "head(medal)"
      ],
      "metadata": {
        "colab": {
          "base_uri": "https://localhost:8080/",
          "height": 566
        },
        "id": "NQY33zXDqw65",
        "outputId": "19807c07-3cdf-42f2-a581-4adc0cc329bc"
      },
      "execution_count": null,
      "outputs": [
        {
          "output_type": "display_data",
          "data": {
            "text/html": [
              "<table class=\"dataframe\">\n",
              "<caption>A data.frame: 6 × 15</caption>\n",
              "<thead>\n",
              "\t<tr><th></th><th scope=col>ID</th><th scope=col>Name</th><th scope=col>Sex</th><th scope=col>Age</th><th scope=col>Height</th><th scope=col>Weight</th><th scope=col>Team</th><th scope=col>NOC</th><th scope=col>Games</th><th scope=col>Year</th><th scope=col>Season</th><th scope=col>City</th><th scope=col>Sport</th><th scope=col>Event</th><th scope=col>Medal</th></tr>\n",
              "\t<tr><th></th><th scope=col>&lt;int&gt;</th><th scope=col>&lt;chr&gt;</th><th scope=col>&lt;chr&gt;</th><th scope=col>&lt;int&gt;</th><th scope=col>&lt;int&gt;</th><th scope=col>&lt;dbl&gt;</th><th scope=col>&lt;chr&gt;</th><th scope=col>&lt;chr&gt;</th><th scope=col>&lt;chr&gt;</th><th scope=col>&lt;int&gt;</th><th scope=col>&lt;chr&gt;</th><th scope=col>&lt;chr&gt;</th><th scope=col>&lt;chr&gt;</th><th scope=col>&lt;chr&gt;</th><th scope=col>&lt;chr&gt;</th></tr>\n",
              "</thead>\n",
              "<tbody>\n",
              "\t<tr><th scope=row>4</th><td> 4</td><td>Edgar Lindenau Aabye    </td><td>M</td><td>34</td><td> NA</td><td>NA</td><td>Denmark/Sweden</td><td>DEN</td><td>1900 Summer</td><td>1900</td><td>Summer</td><td>Paris    </td><td>Tug-Of-War</td><td>Tug-Of-War Men's Tug-Of-War           </td><td>Gold  </td></tr>\n",
              "\t<tr><th scope=row>38</th><td>15</td><td>Arvo Ossian Aaltonen    </td><td>M</td><td>30</td><td> NA</td><td>NA</td><td>Finland       </td><td>FIN</td><td>1920 Summer</td><td>1920</td><td>Summer</td><td>Antwerpen</td><td>Swimming  </td><td>Swimming Men's 200 metres Breaststroke</td><td>Bronze</td></tr>\n",
              "\t<tr><th scope=row>39</th><td>15</td><td>Arvo Ossian Aaltonen    </td><td>M</td><td>30</td><td> NA</td><td>NA</td><td>Finland       </td><td>FIN</td><td>1920 Summer</td><td>1920</td><td>Summer</td><td>Antwerpen</td><td>Swimming  </td><td>Swimming Men's 400 metres Breaststroke</td><td>Bronze</td></tr>\n",
              "\t<tr><th scope=row>41</th><td>16</td><td>Juhamatti Tapio Aaltonen</td><td>M</td><td>28</td><td>184</td><td>85</td><td>Finland       </td><td>FIN</td><td>2014 Winter</td><td>2014</td><td>Winter</td><td>Sochi    </td><td>Ice Hockey</td><td>Ice Hockey Men's Ice Hockey           </td><td>Bronze</td></tr>\n",
              "\t<tr><th scope=row>42</th><td>17</td><td>Paavo Johannes Aaltonen </td><td>M</td><td>28</td><td>175</td><td>64</td><td>Finland       </td><td>FIN</td><td>1948 Summer</td><td>1948</td><td>Summer</td><td>London   </td><td>Gymnastics</td><td>Gymnastics Men's Individual All-Around</td><td>Bronze</td></tr>\n",
              "\t<tr><th scope=row>43</th><td>17</td><td>Paavo Johannes Aaltonen </td><td>M</td><td>28</td><td>175</td><td>64</td><td>Finland       </td><td>FIN</td><td>1948 Summer</td><td>1948</td><td>Summer</td><td>London   </td><td>Gymnastics</td><td>Gymnastics Men's Team All-Around      </td><td>Gold  </td></tr>\n",
              "</tbody>\n",
              "</table>\n"
            ],
            "text/markdown": "\nA data.frame: 6 × 15\n\n| <!--/--> | ID &lt;int&gt; | Name &lt;chr&gt; | Sex &lt;chr&gt; | Age &lt;int&gt; | Height &lt;int&gt; | Weight &lt;dbl&gt; | Team &lt;chr&gt; | NOC &lt;chr&gt; | Games &lt;chr&gt; | Year &lt;int&gt; | Season &lt;chr&gt; | City &lt;chr&gt; | Sport &lt;chr&gt; | Event &lt;chr&gt; | Medal &lt;chr&gt; |\n|---|---|---|---|---|---|---|---|---|---|---|---|---|---|---|---|\n| 4 |  4 | Edgar Lindenau Aabye     | M | 34 |  NA | NA | Denmark/Sweden | DEN | 1900 Summer | 1900 | Summer | Paris     | Tug-Of-War | Tug-Of-War Men's Tug-Of-War            | Gold   |\n| 38 | 15 | Arvo Ossian Aaltonen     | M | 30 |  NA | NA | Finland        | FIN | 1920 Summer | 1920 | Summer | Antwerpen | Swimming   | Swimming Men's 200 metres Breaststroke | Bronze |\n| 39 | 15 | Arvo Ossian Aaltonen     | M | 30 |  NA | NA | Finland        | FIN | 1920 Summer | 1920 | Summer | Antwerpen | Swimming   | Swimming Men's 400 metres Breaststroke | Bronze |\n| 41 | 16 | Juhamatti Tapio Aaltonen | M | 28 | 184 | 85 | Finland        | FIN | 2014 Winter | 2014 | Winter | Sochi     | Ice Hockey | Ice Hockey Men's Ice Hockey            | Bronze |\n| 42 | 17 | Paavo Johannes Aaltonen  | M | 28 | 175 | 64 | Finland        | FIN | 1948 Summer | 1948 | Summer | London    | Gymnastics | Gymnastics Men's Individual All-Around | Bronze |\n| 43 | 17 | Paavo Johannes Aaltonen  | M | 28 | 175 | 64 | Finland        | FIN | 1948 Summer | 1948 | Summer | London    | Gymnastics | Gymnastics Men's Team All-Around       | Gold   |\n\n",
            "text/latex": "A data.frame: 6 × 15\n\\begin{tabular}{r|lllllllllllllll}\n  & ID & Name & Sex & Age & Height & Weight & Team & NOC & Games & Year & Season & City & Sport & Event & Medal\\\\\n  & <int> & <chr> & <chr> & <int> & <int> & <dbl> & <chr> & <chr> & <chr> & <int> & <chr> & <chr> & <chr> & <chr> & <chr>\\\\\n\\hline\n\t4 &  4 & Edgar Lindenau Aabye     & M & 34 &  NA & NA & Denmark/Sweden & DEN & 1900 Summer & 1900 & Summer & Paris     & Tug-Of-War & Tug-Of-War Men's Tug-Of-War            & Gold  \\\\\n\t38 & 15 & Arvo Ossian Aaltonen     & M & 30 &  NA & NA & Finland        & FIN & 1920 Summer & 1920 & Summer & Antwerpen & Swimming   & Swimming Men's 200 metres Breaststroke & Bronze\\\\\n\t39 & 15 & Arvo Ossian Aaltonen     & M & 30 &  NA & NA & Finland        & FIN & 1920 Summer & 1920 & Summer & Antwerpen & Swimming   & Swimming Men's 400 metres Breaststroke & Bronze\\\\\n\t41 & 16 & Juhamatti Tapio Aaltonen & M & 28 & 184 & 85 & Finland        & FIN & 2014 Winter & 2014 & Winter & Sochi     & Ice Hockey & Ice Hockey Men's Ice Hockey            & Bronze\\\\\n\t42 & 17 & Paavo Johannes Aaltonen  & M & 28 & 175 & 64 & Finland        & FIN & 1948 Summer & 1948 & Summer & London    & Gymnastics & Gymnastics Men's Individual All-Around & Bronze\\\\\n\t43 & 17 & Paavo Johannes Aaltonen  & M & 28 & 175 & 64 & Finland        & FIN & 1948 Summer & 1948 & Summer & London    & Gymnastics & Gymnastics Men's Team All-Around       & Gold  \\\\\n\\end{tabular}\n",
            "text/plain": [
              "   ID Name                     Sex Age Height Weight Team           NOC\n",
              "4   4 Edgar Lindenau Aabye     M   34   NA    NA     Denmark/Sweden DEN\n",
              "38 15 Arvo Ossian Aaltonen     M   30   NA    NA     Finland        FIN\n",
              "39 15 Arvo Ossian Aaltonen     M   30   NA    NA     Finland        FIN\n",
              "41 16 Juhamatti Tapio Aaltonen M   28  184    85     Finland        FIN\n",
              "42 17 Paavo Johannes Aaltonen  M   28  175    64     Finland        FIN\n",
              "43 17 Paavo Johannes Aaltonen  M   28  175    64     Finland        FIN\n",
              "   Games       Year Season City      Sport     \n",
              "4  1900 Summer 1900 Summer Paris     Tug-Of-War\n",
              "38 1920 Summer 1920 Summer Antwerpen Swimming  \n",
              "39 1920 Summer 1920 Summer Antwerpen Swimming  \n",
              "41 2014 Winter 2014 Winter Sochi     Ice Hockey\n",
              "42 1948 Summer 1948 Summer London    Gymnastics\n",
              "43 1948 Summer 1948 Summer London    Gymnastics\n",
              "   Event                                  Medal \n",
              "4  Tug-Of-War Men's Tug-Of-War            Gold  \n",
              "38 Swimming Men's 200 metres Breaststroke Bronze\n",
              "39 Swimming Men's 400 metres Breaststroke Bronze\n",
              "41 Ice Hockey Men's Ice Hockey            Bronze\n",
              "42 Gymnastics Men's Individual All-Around Bronze\n",
              "43 Gymnastics Men's Team All-Around       Gold  "
            ]
          },
          "metadata": {}
        }
      ]
    },
    {
      "cell_type": "code",
      "source": [
        "med_gd <- medal[medal$Medal == \"Gold\", ]\n",
        "head(med_gd)"
      ],
      "metadata": {
        "colab": {
          "base_uri": "https://localhost:8080/",
          "height": 584
        },
        "id": "x4ifR0sirgc5",
        "outputId": "b47d15b5-7f6a-48d3-f8f3-d8c2efe19c2c"
      },
      "execution_count": null,
      "outputs": [
        {
          "output_type": "display_data",
          "data": {
            "text/html": [
              "<table class=\"dataframe\">\n",
              "<caption>A data.frame: 6 × 15</caption>\n",
              "<thead>\n",
              "\t<tr><th></th><th scope=col>ID</th><th scope=col>Name</th><th scope=col>Sex</th><th scope=col>Age</th><th scope=col>Height</th><th scope=col>Weight</th><th scope=col>Team</th><th scope=col>NOC</th><th scope=col>Games</th><th scope=col>Year</th><th scope=col>Season</th><th scope=col>City</th><th scope=col>Sport</th><th scope=col>Event</th><th scope=col>Medal</th></tr>\n",
              "\t<tr><th></th><th scope=col>&lt;int&gt;</th><th scope=col>&lt;chr&gt;</th><th scope=col>&lt;chr&gt;</th><th scope=col>&lt;int&gt;</th><th scope=col>&lt;int&gt;</th><th scope=col>&lt;dbl&gt;</th><th scope=col>&lt;chr&gt;</th><th scope=col>&lt;chr&gt;</th><th scope=col>&lt;chr&gt;</th><th scope=col>&lt;int&gt;</th><th scope=col>&lt;chr&gt;</th><th scope=col>&lt;chr&gt;</th><th scope=col>&lt;chr&gt;</th><th scope=col>&lt;chr&gt;</th><th scope=col>&lt;chr&gt;</th></tr>\n",
              "</thead>\n",
              "<tbody>\n",
              "\t<tr><th scope=row>4</th><td> 4</td><td>Edgar Lindenau Aabye   </td><td>M</td><td>34</td><td> NA</td><td>NA</td><td>Denmark/Sweden</td><td>DEN</td><td>1900 Summer</td><td>1900</td><td>Summer</td><td>Paris         </td><td>Tug-Of-War   </td><td>Tug-Of-War Men's Tug-Of-War     </td><td>Gold</td></tr>\n",
              "\t<tr><th scope=row>43</th><td>17</td><td>Paavo Johannes Aaltonen</td><td>M</td><td>28</td><td>175</td><td>64</td><td>Finland       </td><td>FIN</td><td>1948 Summer</td><td>1948</td><td>Summer</td><td>London        </td><td>Gymnastics   </td><td>Gymnastics Men's Team All-Around</td><td>Gold</td></tr>\n",
              "\t<tr><th scope=row>45</th><td>17</td><td>Paavo Johannes Aaltonen</td><td>M</td><td>28</td><td>175</td><td>64</td><td>Finland       </td><td>FIN</td><td>1948 Summer</td><td>1948</td><td>Summer</td><td>London        </td><td>Gymnastics   </td><td>Gymnastics Men's Horse Vault    </td><td>Gold</td></tr>\n",
              "\t<tr><th scope=row>49</th><td>17</td><td>Paavo Johannes Aaltonen</td><td>M</td><td>28</td><td>175</td><td>64</td><td>Finland       </td><td>FIN</td><td>1948 Summer</td><td>1948</td><td>Summer</td><td>London        </td><td>Gymnastics   </td><td>Gymnastics Men's Pommelled Horse</td><td>Gold</td></tr>\n",
              "\t<tr><th scope=row>61</th><td>20</td><td>Kjetil Andr Aamodt     </td><td>M</td><td>20</td><td>176</td><td>85</td><td>Norway        </td><td>NOR</td><td>1992 Winter</td><td>1992</td><td>Winter</td><td>Albertville   </td><td>Alpine Skiing</td><td>Alpine Skiing Men's Super G     </td><td>Gold</td></tr>\n",
              "\t<tr><th scope=row>74</th><td>20</td><td>Kjetil Andr Aamodt     </td><td>M</td><td>30</td><td>176</td><td>85</td><td>Norway        </td><td>NOR</td><td>2002 Winter</td><td>2002</td><td>Winter</td><td>Salt Lake City</td><td>Alpine Skiing</td><td>Alpine Skiing Men's Super G     </td><td>Gold</td></tr>\n",
              "</tbody>\n",
              "</table>\n"
            ],
            "text/markdown": "\nA data.frame: 6 × 15\n\n| <!--/--> | ID &lt;int&gt; | Name &lt;chr&gt; | Sex &lt;chr&gt; | Age &lt;int&gt; | Height &lt;int&gt; | Weight &lt;dbl&gt; | Team &lt;chr&gt; | NOC &lt;chr&gt; | Games &lt;chr&gt; | Year &lt;int&gt; | Season &lt;chr&gt; | City &lt;chr&gt; | Sport &lt;chr&gt; | Event &lt;chr&gt; | Medal &lt;chr&gt; |\n|---|---|---|---|---|---|---|---|---|---|---|---|---|---|---|---|\n| 4 |  4 | Edgar Lindenau Aabye    | M | 34 |  NA | NA | Denmark/Sweden | DEN | 1900 Summer | 1900 | Summer | Paris          | Tug-Of-War    | Tug-Of-War Men's Tug-Of-War      | Gold |\n| 43 | 17 | Paavo Johannes Aaltonen | M | 28 | 175 | 64 | Finland        | FIN | 1948 Summer | 1948 | Summer | London         | Gymnastics    | Gymnastics Men's Team All-Around | Gold |\n| 45 | 17 | Paavo Johannes Aaltonen | M | 28 | 175 | 64 | Finland        | FIN | 1948 Summer | 1948 | Summer | London         | Gymnastics    | Gymnastics Men's Horse Vault     | Gold |\n| 49 | 17 | Paavo Johannes Aaltonen | M | 28 | 175 | 64 | Finland        | FIN | 1948 Summer | 1948 | Summer | London         | Gymnastics    | Gymnastics Men's Pommelled Horse | Gold |\n| 61 | 20 | Kjetil Andr Aamodt      | M | 20 | 176 | 85 | Norway         | NOR | 1992 Winter | 1992 | Winter | Albertville    | Alpine Skiing | Alpine Skiing Men's Super G      | Gold |\n| 74 | 20 | Kjetil Andr Aamodt      | M | 30 | 176 | 85 | Norway         | NOR | 2002 Winter | 2002 | Winter | Salt Lake City | Alpine Skiing | Alpine Skiing Men's Super G      | Gold |\n\n",
            "text/latex": "A data.frame: 6 × 15\n\\begin{tabular}{r|lllllllllllllll}\n  & ID & Name & Sex & Age & Height & Weight & Team & NOC & Games & Year & Season & City & Sport & Event & Medal\\\\\n  & <int> & <chr> & <chr> & <int> & <int> & <dbl> & <chr> & <chr> & <chr> & <int> & <chr> & <chr> & <chr> & <chr> & <chr>\\\\\n\\hline\n\t4 &  4 & Edgar Lindenau Aabye    & M & 34 &  NA & NA & Denmark/Sweden & DEN & 1900 Summer & 1900 & Summer & Paris          & Tug-Of-War    & Tug-Of-War Men's Tug-Of-War      & Gold\\\\\n\t43 & 17 & Paavo Johannes Aaltonen & M & 28 & 175 & 64 & Finland        & FIN & 1948 Summer & 1948 & Summer & London         & Gymnastics    & Gymnastics Men's Team All-Around & Gold\\\\\n\t45 & 17 & Paavo Johannes Aaltonen & M & 28 & 175 & 64 & Finland        & FIN & 1948 Summer & 1948 & Summer & London         & Gymnastics    & Gymnastics Men's Horse Vault     & Gold\\\\\n\t49 & 17 & Paavo Johannes Aaltonen & M & 28 & 175 & 64 & Finland        & FIN & 1948 Summer & 1948 & Summer & London         & Gymnastics    & Gymnastics Men's Pommelled Horse & Gold\\\\\n\t61 & 20 & Kjetil Andr Aamodt      & M & 20 & 176 & 85 & Norway         & NOR & 1992 Winter & 1992 & Winter & Albertville    & Alpine Skiing & Alpine Skiing Men's Super G      & Gold\\\\\n\t74 & 20 & Kjetil Andr Aamodt      & M & 30 & 176 & 85 & Norway         & NOR & 2002 Winter & 2002 & Winter & Salt Lake City & Alpine Skiing & Alpine Skiing Men's Super G      & Gold\\\\\n\\end{tabular}\n",
            "text/plain": [
              "   ID Name                    Sex Age Height Weight Team           NOC\n",
              "4   4 Edgar Lindenau Aabye    M   34   NA    NA     Denmark/Sweden DEN\n",
              "43 17 Paavo Johannes Aaltonen M   28  175    64     Finland        FIN\n",
              "45 17 Paavo Johannes Aaltonen M   28  175    64     Finland        FIN\n",
              "49 17 Paavo Johannes Aaltonen M   28  175    64     Finland        FIN\n",
              "61 20 Kjetil Andr Aamodt      M   20  176    85     Norway         NOR\n",
              "74 20 Kjetil Andr Aamodt      M   30  176    85     Norway         NOR\n",
              "   Games       Year Season City           Sport        \n",
              "4  1900 Summer 1900 Summer Paris          Tug-Of-War   \n",
              "43 1948 Summer 1948 Summer London         Gymnastics   \n",
              "45 1948 Summer 1948 Summer London         Gymnastics   \n",
              "49 1948 Summer 1948 Summer London         Gymnastics   \n",
              "61 1992 Winter 1992 Winter Albertville    Alpine Skiing\n",
              "74 2002 Winter 2002 Winter Salt Lake City Alpine Skiing\n",
              "   Event                            Medal\n",
              "4  Tug-Of-War Men's Tug-Of-War      Gold \n",
              "43 Gymnastics Men's Team All-Around Gold \n",
              "45 Gymnastics Men's Horse Vault     Gold \n",
              "49 Gymnastics Men's Pommelled Horse Gold \n",
              "61 Alpine Skiing Men's Super G      Gold \n",
              "74 Alpine Skiing Men's Super G      Gold "
            ]
          },
          "metadata": {}
        }
      ]
    },
    {
      "cell_type": "code",
      "source": [
        "library(tidyverse)\n",
        "library(dplyr)\n",
        "library(readr)"
      ],
      "metadata": {
        "id": "EBTSNgGIsDjn"
      },
      "execution_count": null,
      "outputs": []
    },
    {
      "cell_type": "code",
      "source": [
        "top_medal <- sort(table(medal_gold$Name))\n",
        "tail(top_medal)"
      ],
      "metadata": {
        "id": "F_mG1cZLsboF",
        "colab": {
          "base_uri": "https://localhost:8080/",
          "height": 138
        },
        "outputId": "bf9a58be-f5f4-4c03-c7f3-b318ef6afdad"
      },
      "execution_count": null,
      "outputs": [
        {
          "output_type": "display_data",
          "data": {
            "text/plain": [
              "\n",
              "    Frederick Carlton \"Carl\" Lewis Larysa Semenivna Latynina (Diriy-) \n",
              "                                 9                                  9 \n",
              "                 Mark Andrew Spitz               Paavo Johannes Nurmi \n",
              "                                 9                                  9 \n",
              "       Raymond Clarence \"Ray\" Ewry            Michael Fred Phelps, II \n",
              "                                10                                 23 "
            ]
          },
          "metadata": {}
        }
      ]
    },
    {
      "cell_type": "code",
      "source": [
        "Top_Med <- data.frame(c(top_medal))"
      ],
      "metadata": {
        "id": "teELYi7GoznZ"
      },
      "execution_count": null,
      "outputs": []
    },
    {
      "cell_type": "code",
      "source": [
        "count_g <- tail(top_medal, 10)\n",
        "count_g\n",
        "player <- names(count_g)"
      ],
      "metadata": {
        "colab": {
          "base_uri": "https://localhost:8080/",
          "height": 208
        },
        "id": "x_7eAzSxXj7-",
        "outputId": "3e19c4c6-83c4-410f-bcc1-fa6830eb920a"
      },
      "execution_count": null,
      "outputs": [
        {
          "output_type": "display_data",
          "data": {
            "text/plain": [
              "\n",
              "    Matthew Nicholas \"Matt\" Biondi                Ole Einar Bjrndalen \n",
              "                                 8                                  8 \n",
              "                        Sawao Kato                 Usain St. Leo Bolt \n",
              "                                 8                                  8 \n",
              "    Frederick Carlton \"Carl\" Lewis Larysa Semenivna Latynina (Diriy-) \n",
              "                                 9                                  9 \n",
              "                 Mark Andrew Spitz               Paavo Johannes Nurmi \n",
              "                                 9                                  9 \n",
              "       Raymond Clarence \"Ray\" Ewry            Michael Fred Phelps, II \n",
              "                                10                                 23 "
            ]
          },
          "metadata": {}
        }
      ]
    },
    {
      "cell_type": "code",
      "source": [
        "#Series:\n",
        "X <- med_gd |> select(Name, Age, Weight, Height, Sport)\n",
        "head(X)"
      ],
      "metadata": {
        "id": "VSHfJwcHag2_",
        "colab": {
          "base_uri": "https://localhost:8080/",
          "height": 286
        },
        "outputId": "d46d9b23-266c-4c73-facc-c1ce44089342"
      },
      "execution_count": null,
      "outputs": [
        {
          "output_type": "display_data",
          "data": {
            "text/html": [
              "<table class=\"dataframe\">\n",
              "<caption>A data.frame: 6 × 5</caption>\n",
              "<thead>\n",
              "\t<tr><th></th><th scope=col>Name</th><th scope=col>Age</th><th scope=col>Weight</th><th scope=col>Height</th><th scope=col>Sport</th></tr>\n",
              "\t<tr><th></th><th scope=col>&lt;chr&gt;</th><th scope=col>&lt;int&gt;</th><th scope=col>&lt;dbl&gt;</th><th scope=col>&lt;int&gt;</th><th scope=col>&lt;chr&gt;</th></tr>\n",
              "</thead>\n",
              "<tbody>\n",
              "\t<tr><th scope=row>4</th><td>Edgar Lindenau Aabye   </td><td>34</td><td>NA</td><td> NA</td><td>Tug-Of-War   </td></tr>\n",
              "\t<tr><th scope=row>43</th><td>Paavo Johannes Aaltonen</td><td>28</td><td>64</td><td>175</td><td>Gymnastics   </td></tr>\n",
              "\t<tr><th scope=row>45</th><td>Paavo Johannes Aaltonen</td><td>28</td><td>64</td><td>175</td><td>Gymnastics   </td></tr>\n",
              "\t<tr><th scope=row>49</th><td>Paavo Johannes Aaltonen</td><td>28</td><td>64</td><td>175</td><td>Gymnastics   </td></tr>\n",
              "\t<tr><th scope=row>61</th><td>Kjetil Andr Aamodt     </td><td>20</td><td>85</td><td>176</td><td>Alpine Skiing</td></tr>\n",
              "\t<tr><th scope=row>74</th><td>Kjetil Andr Aamodt     </td><td>30</td><td>85</td><td>176</td><td>Alpine Skiing</td></tr>\n",
              "</tbody>\n",
              "</table>\n"
            ],
            "text/markdown": "\nA data.frame: 6 × 5\n\n| <!--/--> | Name &lt;chr&gt; | Age &lt;int&gt; | Weight &lt;dbl&gt; | Height &lt;int&gt; | Sport &lt;chr&gt; |\n|---|---|---|---|---|---|\n| 4 | Edgar Lindenau Aabye    | 34 | NA |  NA | Tug-Of-War    |\n| 43 | Paavo Johannes Aaltonen | 28 | 64 | 175 | Gymnastics    |\n| 45 | Paavo Johannes Aaltonen | 28 | 64 | 175 | Gymnastics    |\n| 49 | Paavo Johannes Aaltonen | 28 | 64 | 175 | Gymnastics    |\n| 61 | Kjetil Andr Aamodt      | 20 | 85 | 176 | Alpine Skiing |\n| 74 | Kjetil Andr Aamodt      | 30 | 85 | 176 | Alpine Skiing |\n\n",
            "text/latex": "A data.frame: 6 × 5\n\\begin{tabular}{r|lllll}\n  & Name & Age & Weight & Height & Sport\\\\\n  & <chr> & <int> & <dbl> & <int> & <chr>\\\\\n\\hline\n\t4 & Edgar Lindenau Aabye    & 34 & NA &  NA & Tug-Of-War   \\\\\n\t43 & Paavo Johannes Aaltonen & 28 & 64 & 175 & Gymnastics   \\\\\n\t45 & Paavo Johannes Aaltonen & 28 & 64 & 175 & Gymnastics   \\\\\n\t49 & Paavo Johannes Aaltonen & 28 & 64 & 175 & Gymnastics   \\\\\n\t61 & Kjetil Andr Aamodt      & 20 & 85 & 176 & Alpine Skiing\\\\\n\t74 & Kjetil Andr Aamodt      & 30 & 85 & 176 & Alpine Skiing\\\\\n\\end{tabular}\n",
            "text/plain": [
              "   Name                    Age Weight Height Sport        \n",
              "4  Edgar Lindenau Aabye    34  NA      NA    Tug-Of-War   \n",
              "43 Paavo Johannes Aaltonen 28  64     175    Gymnastics   \n",
              "45 Paavo Johannes Aaltonen 28  64     175    Gymnastics   \n",
              "49 Paavo Johannes Aaltonen 28  64     175    Gymnastics   \n",
              "61 Kjetil Andr Aamodt      20  85     176    Alpine Skiing\n",
              "74 Kjetil Andr Aamodt      30  85     176    Alpine Skiing"
            ]
          },
          "metadata": {}
        }
      ]
    },
    {
      "cell_type": "code",
      "source": [
        "A"
      ],
      "metadata": {
        "colab": {
          "base_uri": "https://localhost:8080/",
          "height": 34
        },
        "id": "8RwMe99teIjF",
        "outputId": "2be73e08-3c57-4699-d6b7-3156f458ac90"
      },
      "execution_count": null,
      "outputs": [
        {
          "output_type": "display_data",
          "data": {
            "text/html": [
              "271116"
            ],
            "text/markdown": "271116",
            "text/latex": "271116",
            "text/plain": [
              "[1] 271116"
            ]
          },
          "metadata": {}
        }
      ]
    },
    {
      "cell_type": "code",
      "source": [
        "B <- ncol(athlete)"
      ],
      "metadata": {
        "id": "dWf9ieJ9g255"
      },
      "execution_count": null,
      "outputs": []
    },
    {
      "cell_type": "code",
      "source": [
        "B"
      ],
      "metadata": {
        "colab": {
          "base_uri": "https://localhost:8080/",
          "height": 34
        },
        "id": "BOqBPNVsg64J",
        "outputId": "b889a983-fec9-4af4-be2f-d7489f7b87c1"
      },
      "execution_count": null,
      "outputs": [
        {
          "output_type": "display_data",
          "data": {
            "text/html": [
              "15"
            ],
            "text/markdown": "15",
            "text/latex": "15",
            "text/plain": [
              "[1] 15"
            ]
          },
          "metadata": {}
        }
      ]
    },
    {
      "cell_type": "code",
      "source": [
        "percentiles_weight <- quantile(athlete$Weight, probs = c(0.25, 0.50, 0.75, 1), na.rm = TRUE)\n",
        "cat(\"Percentile of Weight column: \\n\")\n",
        "cat(\"0%(Min):\", percentiles_weight[1], \"\\n\")\n",
        "cat(\"25%:\", percentiles_weight[2], \"\\n\")\n",
        "cat(\"50%(Median):\", percentiles_weight[3], \"\\n\")\n",
        "cat(\"70%:\", percentiles_weight[4], \"\\n\")\n",
        "cat(\"100%(Max):\", percentiles_weight[5], \"\\n\")"
      ],
      "metadata": {
        "colab": {
          "base_uri": "https://localhost:8080/"
        },
        "id": "-L49bi0vg7iY",
        "outputId": "7f7bc6fd-5e48-4d41-fe1e-fcc9d27840a8"
      },
      "execution_count": null,
      "outputs": [
        {
          "output_type": "stream",
          "name": "stdout",
          "text": [
            "Percentile of Weight column: \n",
            "0%(Min): 60 \n",
            "25%: 70 \n",
            "50%(Median): 79 \n",
            "70%: 214 \n",
            "100%(Max): NA \n"
          ]
        }
      ]
    },
    {
      "cell_type": "code",
      "source": [
        "percentiles_age <- quantile(athlete$Age, probs = c(0.25, 0.50, 0.75, 1), na.rm = TRUE)\n",
        "cat(\"Percentile of Age column: \\n\")\n",
        "cat(\"0%(Min):\", percentiles_age[1], \"\\n\")\n",
        "cat(\"25%:\", percentiles_age[2], \"\\n\")\n",
        "cat(\"50%(Median):\", percentiles_age[3], \"\\n\")\n",
        "cat(\"70%:\", percentiles_age[4], \"\\n\")\n",
        "cat(\"100%(Max):\", percentiles_age[5], \"\\n\")"
      ],
      "metadata": {
        "colab": {
          "base_uri": "https://localhost:8080/"
        },
        "id": "QVeKSYlvhMY2",
        "outputId": "1757dc03-b89c-423b-d8c3-57fde97ac83a"
      },
      "execution_count": null,
      "outputs": [
        {
          "output_type": "stream",
          "name": "stdout",
          "text": [
            "Percentile of Age column: \n",
            "0%(Min): 21 \n",
            "25%: 24 \n",
            "50%(Median): 28 \n",
            "70%: 97 \n",
            "100%(Max): NA \n"
          ]
        }
      ]
    },
    {
      "cell_type": "code",
      "source": [
        "percentiles_height <- quantile(athlete$Height, probs = c(0.25, 0.50, 0.75, 1), na.rm = TRUE)\n",
        "cat(\"Percentile of Height column: \\n\")\n",
        "cat(\"0%(Min):\", percentiles_height[1], \"\\n\")\n",
        "cat(\"25%:\", percentiles_height[2], \"\\n\")\n",
        "cat(\"50%(Median):\", percentiles_height[3], \"\\n\")\n",
        "cat(\"70%:\", percentiles_height[4], \"\\n\")\n",
        "cat(\"100%(Max):\", percentiles_height[5], \"\\n\")"
      ],
      "metadata": {
        "colab": {
          "base_uri": "https://localhost:8080/"
        },
        "id": "h86yHEkRjhVO",
        "outputId": "806ad1e2-2bf8-4b6d-f0c0-8fe39dc6493a"
      },
      "execution_count": null,
      "outputs": [
        {
          "output_type": "stream",
          "name": "stdout",
          "text": [
            "Percentile of Height column: \n",
            "0%(Min): 168 \n",
            "25%: 175 \n",
            "50%(Median): 183 \n",
            "70%: 226 \n",
            "100%(Max): NA \n"
          ]
        }
      ]
    },
    {
      "cell_type": "code",
      "source": [
        "selected_column <- athlete$Sport\n",
        "top_10_values <- head(selected_column, 10)\n",
        "print(top_10_values)"
      ],
      "metadata": {
        "colab": {
          "base_uri": "https://localhost:8080/"
        },
        "id": "I2zNAkl2MUAl",
        "outputId": "e5d711fb-7ce1-42f2-95f3-a3af1f4ea158"
      },
      "execution_count": null,
      "outputs": [
        {
          "output_type": "stream",
          "name": "stdout",
          "text": [
            " [1] \"Basketball\"    \"Judo\"          \"Football\"      \"Tug-Of-War\"   \n",
            " [5] \"Speed Skating\" \"Speed Skating\" \"Speed Skating\" \"Speed Skating\"\n",
            " [9] \"Speed Skating\" \"Speed Skating\"\n"
          ]
        }
      ]
    },
    {
      "cell_type": "code",
      "source": [
        "top_sport <- sort(table(medal_gold$Sport))\n",
        "sports <- tail(top_sport)\n",
        "sports\n",
        "names_sports <- names(sports)\n",
        "names_sports"
      ],
      "metadata": {
        "colab": {
          "base_uri": "https://localhost:8080/",
          "height": 86
        },
        "id": "41T19cxAYRQx",
        "outputId": "196856cb-12e9-45be-a878-d190b6eee0ee"
      },
      "execution_count": null,
      "outputs": [
        {
          "output_type": "display_data",
          "data": {
            "text/plain": [
              "\n",
              "    Hockey    Fencing Gymnastics     Rowing   Swimming  Athletics \n",
              "       518        594        791        978       1099       1339 "
            ]
          },
          "metadata": {}
        },
        {
          "output_type": "display_data",
          "data": {
            "text/html": [
              "<style>\n",
              ".list-inline {list-style: none; margin:0; padding: 0}\n",
              ".list-inline>li {display: inline-block}\n",
              ".list-inline>li:not(:last-child)::after {content: \"\\00b7\"; padding: 0 .5ex}\n",
              "</style>\n",
              "<ol class=list-inline><li>'Hockey'</li><li>'Fencing'</li><li>'Gymnastics'</li><li>'Rowing'</li><li>'Swimming'</li><li>'Athletics'</li></ol>\n"
            ],
            "text/markdown": "1. 'Hockey'\n2. 'Fencing'\n3. 'Gymnastics'\n4. 'Rowing'\n5. 'Swimming'\n6. 'Athletics'\n\n\n",
            "text/latex": "\\begin{enumerate*}\n\\item 'Hockey'\n\\item 'Fencing'\n\\item 'Gymnastics'\n\\item 'Rowing'\n\\item 'Swimming'\n\\item 'Athletics'\n\\end{enumerate*}\n",
            "text/plain": [
              "[1] \"Hockey\"     \"Fencing\"    \"Gymnastics\" \"Rowing\"     \"Swimming\"  \n",
              "[6] \"Athletics\" "
            ]
          },
          "metadata": {}
        }
      ]
    },
    {
      "cell_type": "code",
      "source": [
        "#Plot: Create one plot of your choice. You can refer a book or a plethora of online guidelines for plots in R\n",
        "plot.df <- data.frame(count_g, player)\n",
        "ggplot(plot.df, aes(count_g, player, fill = count_g)) +\n",
        "  geom_bar(stat = \"identity\", position = \"dodge\") +\n",
        "    labs(title = \"Athletes\")"
      ],
      "metadata": {
        "colab": {
          "base_uri": "https://localhost:8080/",
          "height": 506
        },
        "id": "jVW6r11IemEU",
        "outputId": "9c292ec5-665f-4068-f9bd-46bebc1a0d68"
      },
      "execution_count": null,
      "outputs": [
        {
          "output_type": "stream",
          "name": "stderr",
          "text": [
            "\u001b[1m\u001b[22mDon't know how to automatically pick scale for object of type \u001b[34m<table>\u001b[39m.\n",
            "Defaulting to continuous.\n",
            "\u001b[1m\u001b[22mDon't know how to automatically pick scale for object of type \u001b[34m<table>\u001b[39m.\n",
            "Defaulting to continuous.\n"
          ]
        },
        {
          "output_type": "display_data",
          "data": {
            "text/plain": [
              "plot without title"
            ],
            "image/png": "[encoded data removed]"
          },
          "metadata": {
            "image/png": {
              "width": 420,
              "height": 420
            }
          }
        }
      ]
    },
    {
      "cell_type": "markdown",
      "source": [
        "#Summary of the findings: explain in words what you have found in the dataset.\n",
        "Research is about the analysis of olympics data and to provide its insights that will assist Kellogg's in selecting the suitable sport and athlete.\n",
        "As discussed, imported the csv file which has the data set. Executed the file to display the complete data. Considered the head data. Executed to display number of rows, number of columns and also, the percentile of numericals.Then select the column and print to extract or display the values from the selected column.\n",
        "Creating a plot to visulaize the information.\n"
      ],
      "metadata": {
        "id": "tDwhxDTcoosi"
      }
    },
    {
      "cell_type": "code",
      "source": [
        "Recommendation"
      ],
      "metadata": {
        "id": "3hDfnsHk5u6g"
      },
      "execution_count": null,
      "outputs": []
    },
    {
      "cell_type": "markdown",
      "source": [
        "Recommmedation:\n",
        "Kelloggs' analysis has let to the result of achieving the name of desired athlete who has won the highest number of gold medals. Players Michael Fred Phelps, II is the player found in our analysis to get the sponsorship from kellogg's"
      ],
      "metadata": {
        "id": "bqvQpaTU-OZh"
      }
    },
    {
      "cell_type": "code",
      "source": [],
      "metadata": {
        "id": "nAj58aTL_CWD"
      },
      "execution_count": null,
      "outputs": []
    }
  ]
}